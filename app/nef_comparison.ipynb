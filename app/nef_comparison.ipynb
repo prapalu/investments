{
 "cells": [
  {
   "cell_type": "code",
   "execution_count": 1,
   "id": "3e4c4c3e",
   "metadata": {},
   "outputs": [
    {
     "name": "stdout",
     "output_type": "stream",
     "text": [
      "Total portfolio value: 84851.09 EUR\n"
     ]
    }
   ],
   "source": [
    "import yfinance as yf\n",
    "import pandas as pd\n",
    "import numpy as np\n",
    "\n",
    "NEFS = [{'ticker': '0P00000I8O.F', 'name': 'NEF Ethical Bond - Euro R Acc', 'isin': 'LU0102240396', 'ter': 0.8, 'value': 5002.96},\n",
    "        {'ticker': '0P00000I8C.F', 'name': 'NEF Ethical Global Equity R', 'isin': 'LU0102238572', 'ter': 1.6, 'value': 7902.29},\n",
    "        {'ticker': '0P00000I8A.F', 'name': 'NEF Ethical Euro Equity R Acc', 'isin': 'LU0102238655', 'ter': 1.65, 'value': 4482.23},\n",
    "        {'ticker': '0P00000I8E.F', 'name': 'NEF Emerging Market Equity R', 'isin': 'LU0102238812', 'ter': 1.8, 'value': 3204.5},\n",
    "        {'ticker': '0P00000I8S.F', 'name': 'NEF Emerging Market Bond R', 'isin': 'LU0102240552', 'ter': 1.3, 'value': 4012.8},\n",
    "        {'ticker': '0P0001A36G.F', 'name': 'NEF Ethical Balanced Conservative D', 'isin': 'LU1555072252', 'ter': 1.2, 'value': 1556.4},\n",
    "        {'ticker': '0P0001A36E.F', 'name': 'NEF Ethical Balanced Conservative R', 'isin': 'LU1555071874', 'ter': 1.2, 'value': 1653},\n",
    "        {'ticker': '0P00019L2P.F', 'name': 'NEF Ethical Balanced Dynamic D', 'isin': 'LU1538290393', 'ter': 1.3, 'value': 1527.5},\n",
    "        {'ticker': '0P00016B1E.F', 'name': 'NEF Ethical Balanced Dynamic R', 'isin': 'LU1555071874', 'ter': 1.3, 'value': 9529},\n",
    "        {'ticker': '0P00000I8I.F', 'name': 'NEF Ethical Corporate Bond - Euro R', 'isin': 'LU0140696823', 'ter': 0.85, 'value': 5921.28},\n",
    "        {'ticker': '0P0001IHXN.F', 'name': 'NEF Ethical Global Trends R', 'isin': 'LU2051778178', 'ter': 1.55, 'value': 10569.4},\n",
    "        {'ticker': '0P00000I8G.F', 'name': 'NEF Ethical Short Term bond - Euro R', 'isin': 'LU0102240719', 'ter': 0.5, 'value': 2152.95},\n",
    "        {'ticker': '0P00000GYL.F', 'name': 'NEF Ethical U.S. Equity R', 'isin': 'LU0140695346', 'ter': 1.8, 'value': 6805.53},\n",
    "        {'ticker': '0P00000I8Q.F', 'name': 'NEF Global bond R', 'isin': 'LU0102239976', 'ter': 1.0, 'value': 6377.36},\n",
    "        {'ticker': '0P0001D4RR.F', 'name': 'NEF Global bond D', 'isin': 'LU1799642365', 'ter': 1.0, 'value': 1353.84},\n",
    "        {'ticker': '0P00000GYH.F', 'name': 'NEF Pacific Equity R', 'isin': 'LU0140696401', 'ter': 1.85, 'value': 3930.89},\n",
    "        {'ticker': '0P00000I8K.F', 'name': 'NEF Risparmio Italia R', 'isin': 'LU0140693051', 'ter': 1.26, 'value': 1785.14},\n",
    "        {'ticker': '0P0001MJ2E.F', 'name': 'NEF Target 2028 D', 'isin': 'LU2311370097', 'ter': 0.85, 'value': 1088.88},\n",
    "        {'ticker': '0P0000G13X.F', 'name': 'NEF Schroder ISF Greater China A', 'isin': 'LUCHINA', 'ter': 1.85, 'value': 5995.14}]\n",
    "\n",
    "ETFS = [{'ticker': 'IWFM.L', 'name': 'MSCI World Momentum', 'isin': 'IE00BP3QZ825', 'ter': 0.3, 'value': 35},\n",
    "         {'ticker': 'MINV.L', 'name': 'MSCI Minimum Volatility', 'isin': 'IE00B8FHGS14', 'ter': 0.3, 'value': 25},\n",
    "         {'ticker': 'SGLD.L', 'name': 'Invesco Gold', 'isin': 'IE00B579F325', 'ter': 0.12, 'value': 10},\n",
    "         {'ticker': 'SXRQ.DE', 'name': 'GGOV Bond Eur', 'isin': 'IE00B3VTN290', 'ter': 0.2, 'value': 20},\n",
    "         {'ticker': 'LEONIA.MI', 'name': 'Amundi Overnight return', 'isin': 'FR0010510800', 'ter': 0.1, 'value': 10}]\n",
    "\n",
    "\n",
    "\n",
    "#compute the sum of the portfolio values\n",
    "total_value = sum(fondo['value'] for fondo in NEFS)\n",
    "print(f\"Total portfolio value: {total_value:.2f} EUR\")\n",
    "# for each fund, add the percentage of the total value\n",
    "NEFS_ACTUAL = NEFS.copy()\n",
    "NEFS_ACCUMULATED = NEFS.copy()\n",
    "for fondo in NEFS_ACTUAL:\n",
    "    fondo['percentage'] = (fondo['value'] / total_value) * 100\n",
    "for etf in ETFS:\n",
    "    etf['percentage'] = (etf['value'] / 100.0) * 100\n"
   ]
  },
  {
   "cell_type": "code",
   "execution_count": 2,
   "id": "e217913a",
   "metadata": {},
   "outputs": [],
   "source": [
    "min_date = '2022-04-01'\n",
    "for nef in NEFS:\n",
    "    ticker = nef['ticker']\n",
    "    name = nef['name']\n",
    "    \n",
    "    fondo = yf.Ticker(ticker)\n",
    "    dati = fondo.history(period=\"10y\", interval=\"1mo\")\n",
    "    # add the data to the NEFS array\n",
    "    nef['data'] = dati\n",
    "for etf in ETFS:\n",
    "    ticker = etf['ticker']\n",
    "    name = etf['name']\n",
    "    \n",
    "    fondo = yf.Ticker(ticker)\n",
    "    dati = fondo.history(period=\"10y\", interval=\"1mo\")\n",
    "    # add the data to the ETFS array\n",
    "    etf['data'] = dati[dati.index >= min_date]\n"
   ]
  },
  {
   "cell_type": "code",
   "execution_count": 3,
   "id": "15e22047",
   "metadata": {},
   "outputs": [
    {
     "name": "stdout",
     "output_type": "stream",
     "text": [
      "1000.0000000000001 1000.0\n"
     ]
    }
   ],
   "source": [
    "## suppose to allocate 50k eur with the percentages of NEFS on the 2022-04-01, and show the progressions of the portfolio until 2025-07-01\n",
    "initial_investment = 1000\n",
    "init_sum = 0\n",
    "sec_sum = 0\n",
    "for nef in NEFS:\n",
    "    nef['initial_investment'] = (nef['percentage'] / 100) * initial_investment\n",
    "    init_sum += nef['initial_investment']\n",
    "    nef['progression'] = nef['data']['Close'].loc[min_date:].pct_change().fillna(0) * nef['initial_investment']\n",
    "    nef['progression'] = nef['progression'].cumsum() + nef['initial_investment']\n",
    "for etf in ETFS:\n",
    "    etf['initial_investment'] = (etf['percentage'] / 100) * initial_investment\n",
    "    sec_sum += etf['initial_investment']\n",
    "    etf['progression'] = etf['data']['Close'].loc[min_date:].pct_change().fillna(0) * etf['initial_investment']\n",
    "    etf['progression'] = etf['progression'].cumsum() + etf['initial_investment']\n",
    "# for each nef, change the keys in the progression, to be the strftime(%Y-%m-%d) of the index\n",
    "for nef in NEFS:\n",
    "    nef['progression'] = nef['progression'].to_dict()\n",
    "    nef['progression'] = {date.strftime('%Y-%m-%d'): value for date, value in nef['progression'].items()}\n",
    "for etf in ETFS:\n",
    "    etf['progression'] = etf['progression'].to_dict()\n",
    "    etf['progression'] = {date.strftime('%Y-%m-%d'): value for date, value in etf['progression'].items()}\n",
    "print(init_sum, sec_sum)"
   ]
  },
  {
   "cell_type": "code",
   "execution_count": 4,
   "id": "eb368912",
   "metadata": {},
   "outputs": [
    {
     "name": "stdout",
     "output_type": "stream",
     "text": [
      "Total progression on 2022-04-01: 1000.00 EUR, ETFs: 1000.00 EUR\n",
      "Total progression on 2022-05-01: 987.31 EUR, ETFs: 978.49 EUR\n",
      "Total progression on 2022-06-01: 947.08 EUR, ETFs: 956.17 EUR\n",
      "Total progression on 2022-07-01: 999.42 EUR, ETFs: 985.02 EUR\n",
      "Total progression on 2022-08-01: 970.21 EUR, ETFs: 985.50 EUR\n",
      "Total progression on 2022-09-01: 912.65 EUR, ETFs: 960.52 EUR\n",
      "Total progression on 2022-10-01: 924.85 EUR, ETFs: 982.29 EUR\n",
      "Total progression on 2022-11-01: 970.97 EUR, ETFs: 995.87 EUR\n",
      "Total progression on 2022-12-01: 937.08 EUR, ETFs: 978.09 EUR\n",
      "Total progression on 2023-01-01: 983.69 EUR, ETFs: 981.39 EUR\n",
      "Total progression on 2023-02-01: 972.29 EUR, ETFs: 966.01 EUR\n",
      "Total progression on 2023-03-01: 966.89 EUR, ETFs: 978.20 EUR\n",
      "Total progression on 2023-04-01: 963.85 EUR, ETFs: 986.30 EUR\n",
      "Total progression on 2023-05-01: 966.99 EUR, ETFs: 966.92 EUR\n",
      "Total progression on 2023-06-01: 974.03 EUR, ETFs: 978.87 EUR\n",
      "Total progression on 2023-07-01: 993.50 EUR, ETFs: 986.04 EUR\n",
      "Total progression on 2023-08-01: 980.72 EUR, ETFs: 987.19 EUR\n",
      "Total progression on 2023-09-01: 964.35 EUR, ETFs: 978.87 EUR\n",
      "Total progression on 2023-10-01: 942.74 EUR, ETFs: 978.74 EUR\n",
      "Total progression on 2023-11-01: 979.73 EUR, ETFs: 1007.65 EUR\n",
      "Total progression on 2023-12-01: 1006.84 EUR, ETFs: 1037.54 EUR\n",
      "Total progression on 2024-01-01: 1006.16 EUR, ETFs: 1062.63 EUR\n",
      "Total progression on 2024-02-01: 1021.79 EUR, ETFs: 1094.19 EUR\n",
      "Total progression on 2024-03-01: 1045.05 EUR, ETFs: 1128.95 EUR\n",
      "Total progression on 2024-04-01: 1032.76 EUR, ETFs: 1114.01 EUR\n",
      "Total progression on 2024-05-01: 1046.56 EUR, ETFs: 1122.16 EUR\n",
      "Total progression on 2024-06-01: 1050.73 EUR, ETFs: 1149.93 EUR\n",
      "Total progression on 2024-07-01: 1060.06 EUR, ETFs: 1153.82 EUR\n",
      "Total progression on 2024-08-01: 1058.19 EUR, ETFs: 1161.24 EUR\n",
      "Total progression on 2024-09-01: 1083.21 EUR, ETFs: 1166.40 EUR\n",
      "Total progression on 2024-10-01: 1070.71 EUR, ETFs: 1185.83 EUR\n",
      "Total progression on 2024-11-01: 1098.33 EUR, ETFs: 1218.57 EUR\n",
      "Total progression on 2024-12-01: 1095.34 EUR, ETFs: 1201.49 EUR\n",
      "Total progression on 2025-01-01: 1113.20 EUR, ETFs: 1242.89 EUR\n",
      "Total progression on 2025-02-01: 1127.71 EUR, ETFs: 1237.13 EUR\n",
      "Total progression on 2025-03-01: 1087.88 EUR, ETFs: 1212.05 EUR\n",
      "Total progression on 2025-04-01: 1068.91 EUR, ETFs: 1217.04 EUR\n",
      "Total progression on 2025-05-01: 1100.06 EUR, ETFs: 1241.42 EUR\n",
      "Total progression on 2025-06-01: 1104.14 EUR, ETFs: 1244.21 EUR\n",
      "Total progression on 2025-07-01: 1130.86 EUR, ETFs: 1263.89 EUR\n"
     ]
    }
   ],
   "source": [
    "# across the progressions in NEFS, compute the total progression\n",
    "for day in NEFS[0]['progression'].keys():\n",
    "    monthly_sum = sum(nef['progression'][day] for nef in NEFS)\n",
    "    etf_sum = sum(etf['progression'][day] for etf in ETFS)\n",
    "    print(f\"Total progression on {day}: {monthly_sum:.2f} EUR, ETFs: {etf_sum:.2f} EUR\")"
   ]
  },
  {
   "cell_type": "code",
   "execution_count": 9,
   "id": "016d6443",
   "metadata": {},
   "outputs": [],
   "source": [
    "# for each fund, compute the return month by month\n",
    "for nef in NEFS:\n",
    "    nef['return'] = {date: (value - nef['initial_investment']) / nef['initial_investment'] * 100 for date, value in nef['progression'].items()}\n",
    "for etf in ETFS:\n",
    "    etf['return'] = {date: (value - etf['initial_investment']) / etf['initial_investment'] * 100 for date, value in etf['progression'].items()}"
   ]
  },
  {
   "cell_type": "code",
   "execution_count": 22,
   "id": "a0f89d20",
   "metadata": {},
   "outputs": [
    {
     "name": "stdout",
     "output_type": "stream",
     "text": [
      "NEF Ethical Bond - Euro R Acc (0P00000I8O.F): 1.87%\n",
      "NEF Ethical Global Equity R (0P00000I8C.F): 3.57%\n",
      "NEF Ethical Euro Equity R Acc (0P00000I8A.F): 4.66%\n",
      "NEF Emerging Market Equity R (0P00000I8E.F): 2.79%\n",
      "NEF Emerging Market Bond R (0P00000I8S.F): 2.35%\n",
      "NEF Ethical Balanced Conservative D (0P0001A36G.F): 1.93%\n",
      "NEF Ethical Balanced Conservative R (0P0001A36E.F): 1.60%\n",
      "NEF Ethical Balanced Dynamic D (0P00019L2P.F): 2.31%\n",
      "NEF Ethical Balanced Dynamic R (0P00016B1E.F): 2.08%\n",
      "NEF Ethical Corporate Bond - Euro R (0P00000I8I.F): 1.77%\n",
      "NEF Ethical Global Trends R (0P0001IHXN.F): 4.25%\n",
      "NEF Ethical Short Term bond - Euro R (0P00000I8G.F): 0.57%\n",
      "NEF Ethical U.S. Equity R (0P00000GYL.F): 4.35%\n",
      "NEF Global bond R (0P00000I8Q.F): 1.92%\n",
      "NEF Global bond D (0P0001D4RR.F): 2.04%\n",
      "NEF Pacific Equity R (0P00000GYH.F): 4.05%\n",
      "NEF Risparmio Italia R (0P00000I8K.F): 1.86%\n",
      "NEF Target 2028 D (0P0001MJ2E.F): 1.86%\n",
      "NEF Schroder ISF Greater China A (0P0000G13X.F): 6.63%\n",
      "MSCI World Momentum (IWFM.L): 3.68%\n",
      "MSCI Minimum Volatility (MINV.L): 2.06%\n",
      "Invesco Gold (SGLD.L): 3.95%\n",
      "GGOV Bond Eur (SXRQ.DE): 2.32%\n",
      "Amundi Overnight return (LEONIA.MI): 0.13%\n"
     ]
    }
   ],
   "source": [
    "# using the returns, compute the standard deviation of the progression of each fund\n",
    "import math\n",
    "for nef in NEFS:\n",
    "    prezzi_ordinati = nef['data']['Close'].loc[min_date:].pct_change().fillna(0)\n",
    "    nef['std_dev'] = prezzi_ordinati.std()*100\n",
    "for etf in ETFS:\n",
    "    prezzi_ordinati = etf['data']['Close'].loc[min_date:].pct_change().fillna(0)\n",
    "    etf['std_dev'] = prezzi_ordinati.std()*100\n",
    "for nef in NEFS:\n",
    "    print(f\"{nef['name']} ({nef['ticker']}): {nef['std_dev']:.2f}%\")\n",
    "for etf in ETFS:\n",
    "    print(f\"{etf['name']} ({etf['ticker']}): {etf['std_dev']:.2f}%\")"
   ]
  },
  {
   "cell_type": "code",
   "execution_count": 7,
   "id": "5c96acf5",
   "metadata": {},
   "outputs": [
    {
     "name": "stdout",
     "output_type": "stream",
     "text": [
      "NEF Ethical Bond - Euro R Acc (0P00000I8O.F): 1.71 EUR\n",
      "NEF Ethical Global Equity R (0P00000I8C.F): 11.45 EUR\n",
      "NEF Ethical Euro Equity R Acc (0P00000I8A.F): 6.79 EUR\n",
      "NEF Emerging Market Equity R (0P00000I8E.F): 1.62 EUR\n",
      "NEF Emerging Market Bond R (0P00000I8S.F): 2.09 EUR\n",
      "NEF Ethical Balanced Conservative D (0P0001A36G.F): 0.83 EUR\n",
      "NEF Ethical Balanced Conservative R (0P0001A36E.F): 0.91 EUR\n",
      "NEF Ethical Balanced Dynamic D (0P00019L2P.F): 0.64 EUR\n",
      "NEF Ethical Balanced Dynamic R (0P00016B1E.F): 4.21 EUR\n",
      "NEF Ethical Corporate Bond - Euro R (0P00000I8I.F): 2.77 EUR\n",
      "NEF Ethical Global Trends R (0P0001IHXN.F): 14.35 EUR\n",
      "NEF Ethical Short Term bond - Euro R (0P00000I8G.F): 0.72 EUR\n",
      "NEF Ethical U.S. Equity R (0P00000GYL.F): 10.38 EUR\n",
      "NEF Global bond R (0P00000I8Q.F): 2.16 EUR\n",
      "NEF Global bond D (0P0001D4RR.F): 0.51 EUR\n",
      "NEF Pacific Equity R (0P00000GYH.F): 3.08 EUR\n",
      "NEF Risparmio Italia R (0P00000I8K.F): 1.42 EUR\n",
      "NEF Target 2028 D (0P0001MJ2E.F): 0.58 EUR\n",
      "NEF Schroder ISF Greater China A (0P0000G13X.F): 5.36 EUR\n",
      "MSCI World Momentum (IWFM.L): 59.12 EUR\n",
      "MSCI Minimum Volatility (MINV.L): 18.97 EUR\n",
      "Invesco Gold (SGLD.L): 21.80 EUR\n",
      "GGOV Bond Eur (SXRQ.DE): 7.28 EUR\n",
      "Amundi Overnight return (LEONIA.MI): 2.94 EUR\n"
     ]
    }
   ],
   "source": [
    "# compute the standard deviation of the progression of each fund\n",
    "for nef in NEFS:\n",
    "    nef['std_dev'] = np.std(list(nef['progression'].values()))\n",
    "for etf in ETFS:\n",
    "    etf['std_dev'] = np.std(list(etf['progression'].values()))\n",
    "# print the standard deviation of each fund\n",
    "for nef in NEFS:\n",
    "    print(f\"{nef['name']} ({nef['ticker']}): {nef['std_dev']:.2f} EUR\")\n",
    "for etf in ETFS:\n",
    "    print(f\"{etf['name']} ({etf['ticker']}): {etf['std_dev']:.2f} EUR\")"
   ]
  }
 ],
 "metadata": {
  "kernelspec": {
   "display_name": "Python 3",
   "language": "python",
   "name": "python3"
  },
  "language_info": {
   "codemirror_mode": {
    "name": "ipython",
    "version": 3
   },
   "file_extension": ".py",
   "mimetype": "text/x-python",
   "name": "python",
   "nbconvert_exporter": "python",
   "pygments_lexer": "ipython3",
   "version": "3.11.13"
  }
 },
 "nbformat": 4,
 "nbformat_minor": 5
}
